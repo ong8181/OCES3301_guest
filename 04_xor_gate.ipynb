{
 "cells": [
  {
   "cell_type": "markdown",
   "id": "7c5803b8",
   "metadata": {},
   "source": [
    "## Script source\n",
    "The original scripts are here: https://github.com/oreilly-japan/deep-learning-from-scratch (MIT License) (Sorry it is basically in Japanese, but you do not need to read the original scripts and explanations). The scripts are modified for this guest lecture and hands-on.\n",
    "\n",
    "## Perceptron\n",
    "Perceptron transform input as follows:\n",
    "\n",
    "$$\n",
    "y = \n",
    "\\begin{cases}\n",
    "  0 \\quad (if \\ w_1 \\times x_1 + w_2 \\times x_2 \\leq \\theta) \\\\\n",
    "  1 \\quad (if \\ w_1 \\times x_1 + w_2 \\times x_2 > \\theta) \\\\\n",
    "\\end{cases}\n",
    "$$\n",
    "\n",
    "Let's re-write the above equation just for convenience.\n",
    "\n",
    "$$\n",
    "y = \n",
    "\\begin{cases}\n",
    "  0 \\quad (if \\ b + w_1 \\times x_1 + w_2 \\times x_2 \\leq 0) \\\\\n",
    "  1 \\quad (if \\ b + w_1 \\times x_1 + w_2 \\times x_2 > 0) \\\\\n",
    "\\end{cases}\n",
    "$$\n",
    "\n",
    "Note that $\\theta$ has been moved to the left side and rewritten as $b$ which is called \"bias\" (this is the only difference)."
   ]
  },
  {
   "cell_type": "markdown",
   "id": "576a2f79",
   "metadata": {},
   "source": [
    "## Implementation of XOR gate\n",
    "Let's start the implementation.  \n",
    "To implement XOR gate, we first have to define AND, OR, and NAND gates."
   ]
  },
  {
   "cell_type": "code",
   "execution_count": 1,
   "id": "9aca511e",
   "metadata": {},
   "outputs": [],
   "source": [
    "import numpy as np"
   ]
  },
  {
   "cell_type": "markdown",
   "id": "7979abeb",
   "metadata": {},
   "source": [
    "Define `AND()`, `OR()`, and `NAND()` functions."
   ]
  },
  {
   "cell_type": "code",
   "execution_count": 2,
   "id": "c7294171",
   "metadata": {},
   "outputs": [],
   "source": [
    "def AND(x1, x2):\n",
    "    x = np.array([x1, x2])\n",
    "    w = np.array([0.5, 0.5])\n",
    "    b = -0.7\n",
    "    tmp = np.sum(w*x) + b\n",
    "    if tmp <= 0:\n",
    "        return 0\n",
    "    else:\n",
    "        return 1"
   ]
  },
  {
   "cell_type": "code",
   "execution_count": 3,
   "id": "3c3ac185",
   "metadata": {},
   "outputs": [],
   "source": [
    "def OR(x1, x2):\n",
    "    x = np.array([x1, x2])\n",
    "    w = np.array([0.5, 0.5])\n",
    "    b = -0.2\n",
    "    tmp = np.sum(w*x) + b\n",
    "    if tmp <= 0:\n",
    "        return 0\n",
    "    else:\n",
    "        return 1"
   ]
  },
  {
   "cell_type": "code",
   "execution_count": 4,
   "id": "ed9ea5b7",
   "metadata": {},
   "outputs": [],
   "source": [
    "def NAND(x1, x2):\n",
    "    x = np.array([x1, x2])\n",
    "    w = np.array([-0.5, -0.5])\n",
    "    b = 0.7\n",
    "    tmp = np.sum(w*x) + b\n",
    "    if tmp <= 0:\n",
    "        return 0\n",
    "    else:\n",
    "        return 1"
   ]
  },
  {
   "cell_type": "markdown",
   "id": "94b25e81",
   "metadata": {},
   "source": [
    "Then, define XOR gate."
   ]
  },
  {
   "cell_type": "code",
   "execution_count": 5,
   "id": "ca0cc672",
   "metadata": {},
   "outputs": [],
   "source": [
    "def XOR(x1, x2):\n",
    "    s1 = NAND(x1, x2)\n",
    "    s2 = OR(x1, x2)\n",
    "    y = AND(s1, s2)\n",
    "    return y"
   ]
  },
  {
   "cell_type": "markdown",
   "id": "a9263703",
   "metadata": {},
   "source": [
    "Let's check how it works."
   ]
  },
  {
   "cell_type": "code",
   "execution_count": 6,
   "id": "c02032f2",
   "metadata": {},
   "outputs": [
    {
     "data": {
      "text/plain": [
       "1"
      ]
     },
     "execution_count": 6,
     "metadata": {},
     "output_type": "execute_result"
    }
   ],
   "source": [
    "XOR(0,0)"
   ]
  },
  {
   "cell_type": "markdown",
   "id": "9d2e40e9",
   "metadata": {},
   "source": [
    "Let's see other examples."
   ]
  },
  {
   "cell_type": "code",
   "execution_count": 7,
   "id": "373812f9",
   "metadata": {},
   "outputs": [
    {
     "name": "stdout",
     "output_type": "stream",
     "text": [
      "(0, 0) -> 0\n",
      "(1, 0) -> 0\n",
      "(0, 1) -> 0\n",
      "(1, 1) -> 1\n"
     ]
    }
   ],
   "source": [
    "for xs in [(0, 0), (1, 0), (0, 1), (1, 1)]:\n",
    "    y = XOR(xs[0], xs[1])\n",
    "    print(str(xs) + \" -> \" + str(y))\n"
   ]
  }
 ],
 "metadata": {
  "kernelspec": {
   "display_name": "Python 3 (ipykernel)",
   "language": "python",
   "name": "python3"
  },
  "language_info": {
   "codemirror_mode": {
    "name": "ipython",
    "version": 3
   },
   "file_extension": ".py",
   "mimetype": "text/x-python",
   "name": "python",
   "nbconvert_exporter": "python",
   "pygments_lexer": "ipython3",
   "version": "3.9.5"
  }
 },
 "nbformat": 4,
 "nbformat_minor": 5
}
